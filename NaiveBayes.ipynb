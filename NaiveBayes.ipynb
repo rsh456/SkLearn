{
  "nbformat": 4,
  "nbformat_minor": 0,
  "metadata": {
    "colab": {
      "name": "Untitled1.ipynb",
      "version": "0.3.2",
      "provenance": [],
      "collapsed_sections": [],
      "include_colab_link": true
    },
    "kernelspec": {
      "name": "python3",
      "display_name": "Python 3"
    }
  },
  "cells": [
    {
      "cell_type": "markdown",
      "metadata": {
        "id": "view-in-github",
        "colab_type": "text"
      },
      "source": [
        "<a href=\"https://colab.research.google.com/github/rsh456/SkLearn/blob/master/NaiveBayes.ipynb\" target=\"_parent\"><img src=\"https://colab.research.google.com/assets/colab-badge.svg\" alt=\"Open In Colab\"/></a>"
      ]
    },
    {
      "metadata": {
        "id": "Bu6CEGwnS_aT",
        "colab_type": "text"
      },
      "cell_type": "markdown",
      "source": [
        "**NAIVE BAYES:**\n",
        "\n",
        "Simple \"probabilistic classifiers\" based on applying Bayes' theorem with strong (naive) independence assumptions between the features. \n",
        "![](https://github.com/rsh456/SkLearn/assets/1.png)"
      ]
    },
    {
      "metadata": {
        "id": "Ga0N9uQ1WNpk",
        "colab_type": "text"
      },
      "cell_type": "markdown",
      "source": [
        "1.- Start bringing external modules into the code."
      ]
    },
    {
      "metadata": {
        "id": "MJoiKHotVeC0",
        "colab_type": "code",
        "colab": {}
      },
      "cell_type": "code",
      "source": [
        "import numpy as np\n",
        "X = np.array([[-1, -1], [-2, -1], [-3, -2], [1, 1], [2, 1], [3, 2]])\n",
        "Y = np.array([1, 1, 1, 2, 2, 2])"
      ],
      "execution_count": 0,
      "outputs": []
    },
    {
      "metadata": {
        "id": "WvzfGHvSTr6F",
        "colab_type": "text"
      },
      "cell_type": "markdown",
      "source": [
        "- Import Gaussian Naive Bayes library"
      ]
    },
    {
      "metadata": {
        "id": "fbbxVdahSsRI",
        "colab_type": "code",
        "colab": {}
      },
      "cell_type": "code",
      "source": [
        "from sklearn.naive_bayes import GaussianNB"
      ],
      "execution_count": 0,
      "outputs": []
    },
    {
      "metadata": {
        "id": "yGrv43kzT8Mq",
        "colab_type": "text"
      },
      "cell_type": "markdown",
      "source": [
        "2.- Create a classifier"
      ]
    },
    {
      "metadata": {
        "id": "u_KxHvILT1pc",
        "colab_type": "code",
        "colab": {}
      },
      "cell_type": "code",
      "source": [
        "clf = GaussianNB()"
      ],
      "execution_count": 0,
      "outputs": []
    },
    {
      "metadata": {
        "id": "U81QzsUuUQqb",
        "colab_type": "text"
      },
      "cell_type": "markdown",
      "source": [
        "3.- We need to fit it (train). Arguments:\n",
        "\n",
        "*   X : features\n",
        "*   Y : labels\n",
        "\n"
      ]
    },
    {
      "metadata": {
        "id": "9vltYjyqUyLs",
        "colab_type": "code",
        "colab": {
          "base_uri": "https://localhost:8080/",
          "height": 34
        },
        "outputId": "f58d93a9-26ab-4a62-c355-84277c00cd03"
      },
      "cell_type": "code",
      "source": [
        "clf.fit(X,Y)"
      ],
      "execution_count": 4,
      "outputs": [
        {
          "output_type": "execute_result",
          "data": {
            "text/plain": [
              "GaussianNB(priors=None, var_smoothing=1e-09)"
            ]
          },
          "metadata": {
            "tags": []
          },
          "execution_count": 4
        }
      ]
    },
    {
      "metadata": {
        "id": "UKvAtPA1VO6L",
        "colab_type": "text"
      },
      "cell_type": "markdown",
      "source": [
        "4.- Ask the classifier we've just trained for some predictions"
      ]
    },
    {
      "metadata": {
        "id": "yAKdmlBWV0_e",
        "colab_type": "code",
        "colab": {
          "base_uri": "https://localhost:8080/",
          "height": 34
        },
        "outputId": "18e1ef7b-67dc-4500-e213-42eedaca1a0c"
      },
      "cell_type": "code",
      "source": [
        "print(clf.predict([[-0.8, -1]]))"
      ],
      "execution_count": 6,
      "outputs": [
        {
          "output_type": "stream",
          "text": [
            "[1]\n"
          ],
          "name": "stdout"
        }
      ]
    }
  ]
}